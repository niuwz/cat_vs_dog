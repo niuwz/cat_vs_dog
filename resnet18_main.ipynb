{
 "cells": [
  {
   "cell_type": "code",
   "execution_count": 3,
   "metadata": {},
   "outputs": [],
   "source": [
    "import os\n",
    "\n",
    "import cv2 as cv\n",
    "import numpy as np\n",
    "import torch\n",
    "import torch.nn.functional as F\n",
    "import torch.utils.data as data\n",
    "import torchvision.transforms as transforms\n",
    "from matplotlib import pyplot as plt\n",
    "from PIL import Image\n",
    "from torch import nn, optim\n",
    "from torch.utils.data import DataLoader\n",
    "from my_models import *\n",
    "from cat_dog_dataset import my_Dataset\n",
    "global PATH, IMG_SIZE, BATCH_SIZE, DEVICE\n"
   ]
  },
  {
   "cell_type": "code",
   "execution_count": 2,
   "metadata": {},
   "outputs": [],
   "source": [
    "\n",
    "def train(epoch, model, train_dataloader, criterion, optimizer):\n",
    "    '''模型训练函数'''\n",
    "    global print_loss\n",
    "    # 调整为训练模式\n",
    "    model.train()\n",
    "    losses = []\n",
    "    plot_loss = 0\n",
    "    total_num = len(train_dataloader.dataset)\n",
    "    print_thre = total_num//(BATCH_SIZE*5)\n",
    "    for i, (img, label) in enumerate(train_dataloader):\n",
    "        img, label = img.to(DEVICE), label.to(DEVICE)\n",
    "        out = model(img)\n",
    "        # 计算损失\n",
    "        loss = criterion(out, label.squeeze())\n",
    "        losses.append(loss.item())\n",
    "        # 误差反向传播\n",
    "        loss.backward()\n",
    "        # 优化采用设定的优化方法对网络中的各个参数进行调整\n",
    "        optimizer.step()\n",
    "        # 清除优化器中的梯度以便下一次计算\n",
    "        optimizer.zero_grad()\n",
    "        if (i+1) % print_thre == 0:\n",
    "            plot_loss += np.mean(losses)\n",
    "            print('TRAINING: Epoch:{} [{} / {} ({:.2f}%)] Loss:{}'.format(\n",
    "                epoch, (i+1)*BATCH_SIZE, total_num, (i+1)*BATCH_SIZE/total_num*100, plot_loss))\n",
    "            losses.clear()\n",
    "    print_loss.append(plot_loss/5)\n",
    "\n",
    "\n",
    "def test(model, test_dataloader, criterion):\n",
    "    '''模型验证函数'''\n",
    "    model.eval()\n",
    "    cnt = 0\n",
    "    losses = []\n",
    "    total_num = len(test_dataloader.dataset)\n",
    "    for i, (img, label) in enumerate(test_dataloader):\n",
    "        img, label = img.to(DEVICE), label.to(DEVICE)\n",
    "        out = model(img)\n",
    "        # 计算损失\n",
    "        loss = criterion(out, label.squeeze())\n",
    "        losses.append(loss.item())\n",
    "        y = out.argmax(1, keepdim=True)\n",
    "        num = (y-label).abs().sum()\n",
    "        cnt += num\n",
    "    acc = 1-cnt/total_num\n",
    "    print('\\nTESTING: Loss:{},Accuracy:[{} / {} ({:.6f}%)]\\n'.format(np.mean(losses), total_num-cnt, total_num,\n",
    "          acc*100))\n",
    "    return acc.item()\n"
   ]
  },
  {
   "cell_type": "code",
   "execution_count": 3,
   "metadata": {},
   "outputs": [
    {
     "name": "stdout",
     "output_type": "stream",
     "text": [
      "using device cuda\n"
     ]
    }
   ],
   "source": [
    "global PATH, IMG_SIZE, BATCH_SIZE, DEVICE\n",
    "'''定义相关超参数'''\n",
    "# 训练集路径\n",
    "PATH = \"data/train\"\n",
    "# 裁剪图像大小\n",
    "IMG_SIZE = 256\n",
    "BATCH_SIZE = 25\n",
    "EPOCHS = 5\n",
    "DEVICE = torch.device(\n",
    "    \"cuda\") if torch.cuda.is_available() else torch.device(\"cpu\")\n",
    "WORKERS = 0\n",
    "# 训练数据比例\n",
    "TRAIN_RATE = 0.7\n",
    "\n",
    "print(\"using device {}\".format(DEVICE))\n"
   ]
  },
  {
   "cell_type": "code",
   "execution_count": 4,
   "metadata": {},
   "outputs": [],
   "source": [
    "\n",
    "# 数据集分割，采用固定的seed\n",
    "img_data = my_Dataset(\"train\", PATH, IMG_SIZE)\n",
    "IMG_NUM = len(img_data)\n",
    "TRAIN_NUM = int(IMG_NUM*TRAIN_RATE)\n",
    "train_data, vali_data = data.random_split(\n",
    "    img_data, [TRAIN_NUM, IMG_NUM-TRAIN_NUM], torch.Generator().manual_seed(1))\n",
    "train_dataloader = DataLoader(train_data, BATCH_SIZE,\n",
    "                                shuffle=True, num_workers=WORKERS, drop_last=True)\n",
    "vali_dataloader = DataLoader(vali_data, BATCH_SIZE,\n",
    "                                shuffle=True, num_workers=WORKERS, drop_last=True)\n"
   ]
  },
  {
   "cell_type": "code",
   "execution_count": 5,
   "metadata": {},
   "outputs": [
    {
     "name": "stdout",
     "output_type": "stream",
     "text": [
      "using model: ResNet\n"
     ]
    }
   ],
   "source": [
    "\n",
    "# 定义网络模型\n",
    "model = get_resnet18_model(False, True).to(DEVICE)\n",
    "# model = get_vgg16_model(True, False).to(DEVICE)\n",
    "print(\"using model:\", model._get_name())\n",
    "# 实例化一个优化器，优化方式为adam方法\n",
    "optimizer = optim.Adam(model.parameters())\n",
    "# 定义损失函数为交叉熵函数\n",
    "criterion = nn.CrossEntropyLoss()\n"
   ]
  },
  {
   "cell_type": "code",
   "execution_count": 6,
   "metadata": {},
   "outputs": [
    {
     "name": "stdout",
     "output_type": "stream",
     "text": [
      "TRAINING: Epoch:0 [3500 / 17500 (20.00%)] Loss:0.4355498826929501\n",
      "TRAINING: Epoch:0 [7000 / 17500 (40.00%)] Loss:0.8015327609011105\n",
      "TRAINING: Epoch:0 [10500 / 17500 (60.00%)] Loss:1.1669573251690184\n",
      "TRAINING: Epoch:0 [14000 / 17500 (80.00%)] Loss:1.5157123669981958\n",
      "TRAINING: Epoch:0 [17500 / 17500 (100.00%)] Loss:1.869678144156933\n",
      "\n",
      "TESTING: Loss:0.33703973988691965,Accuracy:[7368 / 7500 (98.239998%)]\n",
      "\n",
      "TRAINING: Epoch:1 [3500 / 17500 (20.00%)] Loss:0.349032447380679\n",
      "TRAINING: Epoch:1 [7000 / 17500 (40.00%)] Loss:0.7017754286527633\n",
      "TRAINING: Epoch:1 [10500 / 17500 (60.00%)] Loss:1.0519416672842843\n",
      "TRAINING: Epoch:1 [14000 / 17500 (80.00%)] Loss:1.3934980824589729\n",
      "TRAINING: Epoch:1 [17500 / 17500 (100.00%)] Loss:1.7358062084232058\n",
      "\n",
      "TESTING: Loss:0.3362422350049019,Accuracy:[7339 / 7500 (97.853333%)]\n",
      "\n",
      "TRAINING: Epoch:2 [3500 / 17500 (20.00%)] Loss:0.3454380876251629\n",
      "TRAINING: Epoch:2 [7000 / 17500 (40.00%)] Loss:0.6887983124170984\n",
      "TRAINING: Epoch:2 [10500 / 17500 (60.00%)] Loss:1.0300723182303564\n",
      "TRAINING: Epoch:2 [14000 / 17500 (80.00%)] Loss:1.3754260435700416\n",
      "TRAINING: Epoch:2 [17500 / 17500 (100.00%)] Loss:1.7174274429678915\n",
      "\n",
      "TESTING: Loss:0.3309869100650152,Accuracy:[7384 / 7500 (98.453331%)]\n",
      "\n",
      "TRAINING: Epoch:3 [3500 / 17500 (20.00%)] Loss:0.343303066279207\n",
      "TRAINING: Epoch:3 [7000 / 17500 (40.00%)] Loss:0.6848879939743451\n",
      "TRAINING: Epoch:3 [10500 / 17500 (60.00%)] Loss:1.0289743962032454\n",
      "TRAINING: Epoch:3 [14000 / 17500 (80.00%)] Loss:1.3735070667096547\n",
      "TRAINING: Epoch:3 [17500 / 17500 (100.00%)] Loss:1.7173302322626114\n",
      "\n",
      "TESTING: Loss:0.3300769179066022,Accuracy:[7385 / 7500 (98.466667%)]\n",
      "\n",
      "TRAINING: Epoch:4 [3500 / 17500 (20.00%)] Loss:0.3447859568255288\n",
      "TRAINING: Epoch:4 [7000 / 17500 (40.00%)] Loss:0.6836845236165183\n",
      "TRAINING: Epoch:4 [10500 / 17500 (60.00%)] Loss:1.0216607651540213\n",
      "TRAINING: Epoch:4 [14000 / 17500 (80.00%)] Loss:1.3602499612740109\n",
      "TRAINING: Epoch:4 [17500 / 17500 (100.00%)] Loss:1.7019916900566647\n",
      "\n",
      "TESTING: Loss:0.3299554526805878,Accuracy:[7381 / 7500 (98.413338%)]\n",
      "\n"
     ]
    }
   ],
   "source": [
    "print_loss = []\n",
    "accs = []\n",
    "for epoch in range(EPOCHS):\n",
    "    train(epoch, model, train_dataloader, criterion, optimizer)\n",
    "    if (epoch+1) % 1 == 0:\n",
    "        acc = test(model, vali_dataloader, criterion)\n",
    "        accs.append(acc)\n"
   ]
  },
  {
   "cell_type": "code",
   "execution_count": 12,
   "metadata": {},
   "outputs": [
    {
     "name": "stdout",
     "output_type": "stream",
     "text": [
      "模型参数保存成功\n"
     ]
    }
   ],
   "source": [
    "if acc >= 0.97:\n",
    "    torch.save(model.state_dict(), \"resnet18_state.pth\")\n",
    "    print(\"模型参数保存成功\")\n"
   ]
  },
  {
   "cell_type": "code",
   "execution_count": 11,
   "metadata": {},
   "outputs": [
    {
     "data": {
      "image/png": "[encoded data removed]",
      "text/plain": [
       "<Figure size 432x288 with 1 Axes>"
      ]
     },
     "metadata": {
      "needs_background": "light"
     },
     "output_type": "display_data"
    },
    {
     "data": {
      "image/png": "[encoded data removed]",
      "text/plain": [
       "<Figure size 432x288 with 1 Axes>"
      ]
     },
     "metadata": {
      "needs_background": "light"
     },
     "output_type": "display_data"
    }
   ],
   "source": [
    "plt.figure(1)\n",
    "plt.plot(range(EPOCHS), print_loss,   linestyle='-.', linewidth=2,\n",
    "         marker='o', markersize=8, markeredgecolor='k', markerfacecolor='red')\n",
    "plt.xlabel(\"EPOCHS\")\n",
    "plt.ylabel(\"Loss\")\n",
    "plt.xticks(range(EPOCHS))\n",
    "plt.title(\"ResNet18 Loss下降曲线\")\n",
    "plt.savefig(\"Loss_resnet.jpg\")\n",
    "\n",
    "plt.figure(2)\n",
    "plt.plot(range(EPOCHS), accs,linestyle='-.', linewidth=2,\n",
    "         marker='o', markersize=8, markeredgecolor='k', markerfacecolor='red')\n",
    "plt.xlabel(\"EPOCHS\")\n",
    "plt.ylabel(\"Accuracy\")\n",
    "plt.xticks(range(EPOCHS))\n",
    "plt.title(\"ResNet18 准确率变化情况\")\n",
    "plt.savefig(\"Accuracy_resnet.jpg\")\n",
    "\n"
   ]
  }
 ],
 "metadata": {
  "kernelspec": {
   "display_name": "Python 3",
   "language": "python",
   "name": "python3"
  },
  "language_info": {
   "codemirror_mode": {
    "name": "ipython",
    "version": 3
   },
   "file_extension": ".py",
   "mimetype": "text/x-python",
   "name": "python",
   "nbconvert_exporter": "python",
   "pygments_lexer": "ipython3",
   "version": "3.9.1 (tags/v3.9.1:1e5d33e, Dec  7 2020, 17:08:21) [MSC v.1927 64 bit (AMD64)]"
  },
  "orig_nbformat": 4,
  "vscode": {
   "interpreter": {
    "hash": "11938c6bc6919ae2720b4d5011047913343b08a43b18698fd82dedb0d4417594"
   }
  }
 },
 "nbformat": 4,
 "nbformat_minor": 2
}
