{
 "cells": [
  {
   "cell_type": "code",
   "execution_count": 36,
   "metadata": {},
   "outputs": [],
   "source": [
    "import os\n",
    "\n",
    "import cv2 as cv\n",
    "import numpy as np\n",
    "import torch\n",
    "import torch.nn.functional as F\n",
    "import torch.utils.data as data\n",
    "import torchvision.transforms as transforms\n",
    "from matplotlib import pyplot as plt\n",
    "from PIL import Image\n",
    "from torch import nn, optim\n",
    "from torch.utils.data import DataLoader\n",
    "from my_models import *\n",
    "from cat_dog_dataset import my_Dataset\n",
    "global PATH, IMG_SIZE, BATCH_SIZE, DEVICE\n"
   ]
  },
  {
   "cell_type": "code",
   "execution_count": 38,
   "metadata": {},
   "outputs": [],
   "source": [
    "\n",
    "def train(epoch, model, train_dataloader, criterion, optimizer):\n",
    "    '''模型训练函数'''\n",
    "    global print_loss\n",
    "    # 调整为训练模式\n",
    "    model.train()\n",
    "    losses = []\n",
    "    plot_loss = 0\n",
    "    total_num = len(train_dataloader.dataset)\n",
    "    print_thre = total_num//(BATCH_SIZE*5)\n",
    "    for i, (img, label) in enumerate(train_dataloader):\n",
    "        img, label = img.to(DEVICE), label.to(DEVICE)\n",
    "        out = model(img)\n",
    "        # 计算损失\n",
    "        loss = criterion(out, label.squeeze())\n",
    "        losses.append(loss.item())\n",
    "        # 误差反向传播\n",
    "        loss.backward()\n",
    "        # 参数调整\n",
    "        optimizer.step()\n",
    "        # 清除优化器中梯度\n",
    "        optimizer.zero_grad()\n",
    "        if (i+1) % print_thre == 0:\n",
    "            plot_loss += np.mean(losses)\n",
    "            print('TRAINING: Epoch:{} [{} / {} ({:.2f}%)] Loss:{}'.format(\n",
    "                epoch, (i+1)*BATCH_SIZE, total_num, (i+1)*BATCH_SIZE/total_num*100, plot_loss))\n",
    "            losses.clear()\n",
    "    print_loss.append(plot_loss/5)\n",
    "\n",
    "\n",
    "def test(model, test_dataloader, criterion):\n",
    "    '''模型验证函数'''\n",
    "    model.eval()\n",
    "    cnt = 0\n",
    "    losses = []\n",
    "    total_num = len(test_dataloader.dataset)\n",
    "    for i, (img, label) in enumerate(test_dataloader):\n",
    "        img, label = img.to(DEVICE), label.to(DEVICE)\n",
    "        out = model(img)\n",
    "        # 计算损失\n",
    "        loss = criterion(out, label.squeeze())\n",
    "        losses.append(loss.item())\n",
    "        y = out.argmax(1, keepdim=True)\n",
    "        num = (y-label).abs().sum()\n",
    "        cnt += num\n",
    "    acc = 1-cnt/total_num\n",
    "    print('\\nTESTING: Loss:{},Accuracy:[{} / {} ({:.6f}%)]\\n'.format(np.mean(losses), total_num-cnt, total_num,\n",
    "          acc*100))\n",
    "    return acc.item()\n"
   ]
  },
  {
   "cell_type": "code",
   "execution_count": 39,
   "metadata": {},
   "outputs": [
    {
     "name": "stdout",
     "output_type": "stream",
     "text": [
      "using device cuda\n"
     ]
    }
   ],
   "source": [
    "global PATH, IMG_SIZE, BATCH_SIZE, DEVICE\n",
    "'''定义相关超参数'''\n",
    "# 训练集路径\n",
    "PATH = \"data/train\"\n",
    "# 裁剪图像大小\n",
    "IMG_SIZE = 256\n",
    "BATCH_SIZE = 25\n",
    "EPOCHS = 10\n",
    "DEVICE = torch.device(\n",
    "    \"cuda\") if torch.cuda.is_available() else torch.device(\"cpu\")\n",
    "WORKERS = 0\n",
    "# 训练数据比例\n",
    "TRAIN_RATE = 0.7\n",
    "\n",
    "print(\"using device {}\".format(DEVICE))\n"
   ]
  },
  {
   "cell_type": "code",
   "execution_count": 40,
   "metadata": {},
   "outputs": [],
   "source": [
    "# 数据集分割，采用固定的seed\n",
    "img_data = my_Dataset(\"train\", PATH, IMG_SIZE)\n",
    "IMG_NUM = len(img_data)\n",
    "TRAIN_NUM = int(IMG_NUM*TRAIN_RATE)\n",
    "train_data, vali_data = data.random_split(\n",
    "    img_data, [TRAIN_NUM, IMG_NUM-TRAIN_NUM], torch.Generator().manual_seed(1))\n",
    "train_dataloader = DataLoader(train_data, BATCH_SIZE,\n",
    "                                shuffle=True, num_workers=WORKERS, drop_last=True)\n",
    "vali_dataloader = DataLoader(vali_data, BATCH_SIZE,\n",
    "                                shuffle=True, num_workers=WORKERS, drop_last=True)\n"
   ]
  },
  {
   "cell_type": "code",
   "execution_count": 64,
   "metadata": {},
   "outputs": [
    {
     "name": "stdout",
     "output_type": "stream",
     "text": [
      "using model: Net\n"
     ]
    }
   ],
   "source": [
    "# 定义网络模型\n",
    "model = get_cnn_model(True).to(DEVICE)\n",
    "# model = get_resnet18_model(False, True).to(DEVICE)\n",
    "# model = get_vgg16_model(True, False).to(DEVICE)\n",
    "print(\"using model:\", model._get_name())\n",
    "optimizer = optim.Adam(model.parameters(),lr=0.0001)\n",
    "criterion = nn.CrossEntropyLoss()\n"
   ]
  },
  {
   "cell_type": "code",
   "execution_count": 42,
   "metadata": {},
   "outputs": [],
   "source": [
    "print_loss = []\n",
    "accs = []\n"
   ]
  },
  {
   "cell_type": "code",
   "execution_count": 57,
   "metadata": {},
   "outputs": [
    {
     "name": "stdout",
     "output_type": "stream",
     "text": [
      "TRAINING: Epoch:0 [3500 / 17500 (20.00%)] Loss:0.4404014434133257\n",
      "TRAINING: Epoch:0 [7000 / 17500 (40.00%)] Loss:0.8797682538628577\n",
      "TRAINING: Epoch:0 [10500 / 17500 (60.00%)] Loss:1.3218474905405726\n",
      "TRAINING: Epoch:0 [14000 / 17500 (80.00%)] Loss:1.7658033888254847\n",
      "TRAINING: Epoch:0 [17500 / 17500 (100.00%)] Loss:2.206483416046415\n",
      "\n",
      "TESTING: Loss:0.5086086635788282,Accuracy:[5944 / 7500 (79.253334%)]\n",
      "\n",
      "TRAINING: Epoch:1 [3500 / 17500 (20.00%)] Loss:0.4406935977084296\n",
      "TRAINING: Epoch:1 [7000 / 17500 (40.00%)] Loss:0.8765077995402473\n",
      "TRAINING: Epoch:1 [10500 / 17500 (60.00%)] Loss:1.3239361858793668\n",
      "TRAINING: Epoch:1 [14000 / 17500 (80.00%)] Loss:1.757505672318595\n",
      "TRAINING: Epoch:1 [17500 / 17500 (100.00%)] Loss:2.190777201524803\n",
      "\n",
      "TESTING: Loss:0.5098976649840673,Accuracy:[5956 / 7500 (79.413330%)]\n",
      "\n",
      "TRAINING: Epoch:2 [3500 / 17500 (20.00%)] Loss:0.4273797765374184\n",
      "TRAINING: Epoch:2 [7000 / 17500 (40.00%)] Loss:0.8643233058708055\n",
      "TRAINING: Epoch:2 [10500 / 17500 (60.00%)] Loss:1.2974197213138854\n",
      "TRAINING: Epoch:2 [14000 / 17500 (80.00%)] Loss:1.7456735634378027\n",
      "TRAINING: Epoch:2 [17500 / 17500 (100.00%)] Loss:2.181323457189969\n",
      "\n",
      "TESTING: Loss:0.5105984732508659,Accuracy:[5943 / 7500 (79.239998%)]\n",
      "\n",
      "TRAINING: Epoch:3 [3500 / 17500 (20.00%)] Loss:0.4352688065596989\n",
      "TRAINING: Epoch:3 [7000 / 17500 (40.00%)] Loss:0.8663798044834818\n",
      "TRAINING: Epoch:3 [10500 / 17500 (60.00%)] Loss:1.2947438225150107\n",
      "TRAINING: Epoch:3 [14000 / 17500 (80.00%)] Loss:1.7293738795178277\n",
      "TRAINING: Epoch:3 [17500 / 17500 (100.00%)] Loss:2.161771833896637\n",
      "\n",
      "TESTING: Loss:0.508514275153478,Accuracy:[5955 / 7500 (79.400002%)]\n",
      "\n",
      "TRAINING: Epoch:4 [3500 / 17500 (20.00%)] Loss:0.424084495646613\n",
      "TRAINING: Epoch:4 [7000 / 17500 (40.00%)] Loss:0.8516035422682762\n",
      "TRAINING: Epoch:4 [10500 / 17500 (60.00%)] Loss:1.2854793078133038\n",
      "TRAINING: Epoch:4 [14000 / 17500 (80.00%)] Loss:1.7198353677988052\n",
      "TRAINING: Epoch:4 [17500 / 17500 (100.00%)] Loss:2.1489569385136877\n",
      "\n",
      "TESTING: Loss:0.5064724566539128,Accuracy:[5973 / 7500 (79.639999%)]\n",
      "\n",
      "TRAINING: Epoch:5 [3500 / 17500 (20.00%)] Loss:0.4232906147837639\n",
      "TRAINING: Epoch:5 [7000 / 17500 (40.00%)] Loss:0.8453137493559293\n",
      "TRAINING: Epoch:5 [10500 / 17500 (60.00%)] Loss:1.2769785165786744\n",
      "TRAINING: Epoch:5 [14000 / 17500 (80.00%)] Loss:1.7103596150875093\n",
      "TRAINING: Epoch:5 [17500 / 17500 (100.00%)] Loss:2.1394538457904546\n",
      "\n",
      "TESTING: Loss:0.5081452090541522,Accuracy:[5973 / 7500 (79.639999%)]\n",
      "\n",
      "TRAINING: Epoch:6 [3500 / 17500 (20.00%)] Loss:0.4226202204823494\n",
      "TRAINING: Epoch:6 [7000 / 17500 (40.00%)] Loss:0.8488567320363862\n",
      "TRAINING: Epoch:6 [10500 / 17500 (60.00%)] Loss:1.2780507294195038\n",
      "TRAINING: Epoch:6 [14000 / 17500 (80.00%)] Loss:1.7047370814851353\n",
      "TRAINING: Epoch:6 [17500 / 17500 (100.00%)] Loss:2.1227820566722326\n",
      "\n",
      "TESTING: Loss:0.5036147885521253,Accuracy:[6000 / 7500 (80.000000%)]\n",
      "\n",
      "TRAINING: Epoch:7 [3500 / 17500 (20.00%)] Loss:0.42205136993101666\n",
      "TRAINING: Epoch:7 [7000 / 17500 (40.00%)] Loss:0.8399485030344555\n",
      "TRAINING: Epoch:7 [10500 / 17500 (60.00%)] Loss:1.262935962847301\n",
      "TRAINING: Epoch:7 [14000 / 17500 (80.00%)] Loss:1.6931066006422042\n",
      "TRAINING: Epoch:7 [17500 / 17500 (100.00%)] Loss:2.1147936708160806\n",
      "\n",
      "TESTING: Loss:0.5072244941194852,Accuracy:[5956 / 7500 (79.413330%)]\n",
      "\n",
      "TRAINING: Epoch:8 [3500 / 17500 (20.00%)] Loss:0.41812770515680314\n",
      "TRAINING: Epoch:8 [7000 / 17500 (40.00%)] Loss:0.8318883129528591\n",
      "TRAINING: Epoch:8 [10500 / 17500 (60.00%)] Loss:1.2533649099724635\n",
      "TRAINING: Epoch:8 [14000 / 17500 (80.00%)] Loss:1.677289351820946\n",
      "TRAINING: Epoch:8 [17500 / 17500 (100.00%)] Loss:2.0998857572674754\n",
      "\n",
      "TESTING: Loss:0.5041355086366336,Accuracy:[5994 / 7500 (79.919998%)]\n",
      "\n",
      "TRAINING: Epoch:9 [3500 / 17500 (20.00%)] Loss:0.41056180234466283\n",
      "TRAINING: Epoch:9 [7000 / 17500 (40.00%)] Loss:0.8299495492662703\n",
      "TRAINING: Epoch:9 [10500 / 17500 (60.00%)] Loss:1.2515160677688464\n",
      "TRAINING: Epoch:9 [14000 / 17500 (80.00%)] Loss:1.6737901049000878\n",
      "TRAINING: Epoch:9 [17500 / 17500 (100.00%)] Loss:2.0875109738537247\n",
      "\n",
      "TESTING: Loss:0.5085571520527203,Accuracy:[5949 / 7500 (79.320000%)]\n",
      "\n"
     ]
    }
   ],
   "source": [
    "for epoch in range(EPOCHS):\n",
    "    train(epoch, model, train_dataloader, criterion, optimizer)\n",
    "    if (epoch+1) % 1 == 0:\n",
    "        acc = test(model, vali_dataloader, criterion)\n",
    "        accs.append(acc)\n"
   ]
  },
  {
   "cell_type": "code",
   "execution_count": 88,
   "metadata": {},
   "outputs": [
    {
     "name": "stdout",
     "output_type": "stream",
     "text": [
      "模型参数保存成功\n"
     ]
    }
   ],
   "source": [
    "if acc >= 0.75:\n",
    "    torch.save(model.state_dict(), \"cnn3_state.pth\")\n",
    "    print(\"模型参数保存成功\")\n"
   ]
  },
  {
   "cell_type": "code",
   "execution_count": 87,
   "metadata": {},
   "outputs": [
    {
     "data": {
      "image/png": "[encoded data removed]",
      "text/plain": [
       "<Figure size 432x288 with 1 Axes>"
      ]
     },
     "metadata": {
      "needs_background": "light"
     },
     "output_type": "display_data"
    },
    {
     "data": {
      "image/png": "[encoded data removed]",
      "text/plain": [
       "<Figure size 432x288 with 1 Axes>"
      ]
     },
     "metadata": {
      "needs_background": "light"
     },
     "output_type": "display_data"
    }
   ],
   "source": [
    "plt.figure(1)\n",
    "plt.plot(range(EPOCHS), print_loss,   linestyle='-.', linewidth=2,\n",
    "         marker='o', markersize=8, markeredgecolor='k', markerfacecolor='red')\n",
    "plt.xlabel(\"EPOCHS\")\n",
    "plt.ylabel(\"Loss\")\n",
    "plt.title(\"CNN Loss下降曲线\")\n",
    "plt.savefig(\"Loss_cnn.jpg\")\n",
    "\n",
    "plt.figure(2)\n",
    "plt.plot(range(EPOCHS), accs,linestyle='-.', linewidth=2,\n",
    "         marker='o', markersize=8, markeredgecolor='k', markerfacecolor='red')\n",
    "plt.xlabel(\"EPOCHS\")\n",
    "plt.ylabel(\"Accuracy\")\n",
    "plt.title(\"CNN 准确率变化情况\")\n",
    "plt.savefig(\"Accuracy_cnn.jpg\")"
   ]
  }
 ],
 "metadata": {
  "kernelspec": {
   "display_name": "Python 3",
   "language": "python",
   "name": "python3"
  },
  "language_info": {
   "codemirror_mode": {
    "name": "ipython",
    "version": 3
   },
   "file_extension": ".py",
   "mimetype": "text/x-python",
   "name": "python",
   "nbconvert_exporter": "python",
   "pygments_lexer": "ipython3",
   "version": "3.9.1 (tags/v3.9.1:1e5d33e, Dec  7 2020, 17:08:21) [MSC v.1927 64 bit (AMD64)]"
  },
  "orig_nbformat": 4,
  "vscode": {
   "interpreter": {
    "hash": "11938c6bc6919ae2720b4d5011047913343b08a43b18698fd82dedb0d4417594"
   }
  }
 },
 "nbformat": 4,
 "nbformat_minor": 2
}
